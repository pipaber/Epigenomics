{
 "cells": [
  {
   "cell_type": "markdown",
   "metadata": {},
   "source": [
    "# DNA methylation measurement\n",
    "\n",
    "Multi-resolution analysis\n",
    "\n",
    "Piero Palacios Bernuy\n",
    "\n",
    "## Loading data"
   ],
   "id": "a5c51284-0aa7-49ba-aadb-34ea6cce263b"
  },
  {
   "cell_type": "code",
   "execution_count": null,
   "metadata": {},
   "outputs": [
    {
     "output_type": "stream",
     "name": "stderr",
     "text": [
      "Warning: package 'minfi' was built under R version 4.3.1"
     ]
    },
    {
     "output_type": "stream",
     "name": "stderr",
     "text": [
      "Loading required package: BiocGenerics"
     ]
    },
    {
     "output_type": "stream",
     "name": "stderr",
     "text": [
      "\n",
      "Attaching package: 'BiocGenerics'"
     ]
    },
    {
     "output_type": "stream",
     "name": "stderr",
     "text": [
      "The following objects are masked from 'package:stats':\n",
      "\n",
      "    IQR, mad, sd, var, xtabs"
     ]
    },
    {
     "output_type": "stream",
     "name": "stderr",
     "text": [
      "The following objects are masked from 'package:base':\n",
      "\n",
      "    anyDuplicated, aperm, append, as.data.frame, basename, cbind,\n",
      "    colnames, dirname, do.call, duplicated, eval, evalq, Filter, Find,\n",
      "    get, grep, grepl, intersect, is.unsorted, lapply, Map, mapply,\n",
      "    match, mget, order, paste, pmax, pmax.int, pmin, pmin.int,\n",
      "    Position, rank, rbind, Reduce, rownames, sapply, setdiff, sort,\n",
      "    table, tapply, union, unique, unsplit, which.max, which.min"
     ]
    },
    {
     "output_type": "stream",
     "name": "stderr",
     "text": [
      "Loading required package: GenomicRanges"
     ]
    },
    {
     "output_type": "stream",
     "name": "stderr",
     "text": [
      "Loading required package: stats4"
     ]
    },
    {
     "output_type": "stream",
     "name": "stderr",
     "text": [
      "Loading required package: S4Vectors"
     ]
    },
    {
     "output_type": "stream",
     "name": "stderr",
     "text": [
      "\n",
      "Attaching package: 'S4Vectors'"
     ]
    },
    {
     "output_type": "stream",
     "name": "stderr",
     "text": [
      "The following object is masked from 'package:utils':\n",
      "\n",
      "    findMatches"
     ]
    },
    {
     "output_type": "stream",
     "name": "stderr",
     "text": [
      "The following objects are masked from 'package:base':\n",
      "\n",
      "    expand.grid, I, unname"
     ]
    },
    {
     "output_type": "stream",
     "name": "stderr",
     "text": [
      "Loading required package: IRanges"
     ]
    },
    {
     "output_type": "stream",
     "name": "stderr",
     "text": [
      "\n",
      "Attaching package: 'IRanges'"
     ]
    },
    {
     "output_type": "stream",
     "name": "stderr",
     "text": [
      "The following object is masked from 'package:grDevices':\n",
      "\n",
      "    windows"
     ]
    },
    {
     "output_type": "stream",
     "name": "stderr",
     "text": [
      "Loading required package: GenomeInfoDb"
     ]
    },
    {
     "output_type": "stream",
     "name": "stderr",
     "text": [
      "Loading required package: SummarizedExperiment"
     ]
    },
    {
     "output_type": "stream",
     "name": "stderr",
     "text": [
      "Warning: package 'SummarizedExperiment' was built under R version 4.3.1"
     ]
    },
    {
     "output_type": "stream",
     "name": "stderr",
     "text": [
      "Loading required package: MatrixGenerics"
     ]
    },
    {
     "output_type": "stream",
     "name": "stderr",
     "text": [
      "Warning: package 'MatrixGenerics' was built under R version 4.3.1"
     ]
    },
    {
     "output_type": "stream",
     "name": "stderr",
     "text": [
      "Loading required package: matrixStats"
     ]
    },
    {
     "output_type": "stream",
     "name": "stderr",
     "text": [
      "Warning: package 'matrixStats' was built under R version 4.3.1"
     ]
    },
    {
     "output_type": "stream",
     "name": "stderr",
     "text": [
      "\n",
      "Attaching package: 'MatrixGenerics'"
     ]
    },
    {
     "output_type": "stream",
     "name": "stderr",
     "text": [
      "The following objects are masked from 'package:matrixStats':\n",
      "\n",
      "    colAlls, colAnyNAs, colAnys, colAvgsPerRowSet, colCollapse,\n",
      "    colCounts, colCummaxs, colCummins, colCumprods, colCumsums,\n",
      "    colDiffs, colIQRDiffs, colIQRs, colLogSumExps, colMadDiffs,\n",
      "    colMads, colMaxs, colMeans2, colMedians, colMins, colOrderStats,\n",
      "    colProds, colQuantiles, colRanges, colRanks, colSdDiffs, colSds,\n",
      "    colSums2, colTabulates, colVarDiffs, colVars, colWeightedMads,\n",
      "    colWeightedMeans, colWeightedMedians, colWeightedSds,\n",
      "    colWeightedVars, rowAlls, rowAnyNAs, rowAnys, rowAvgsPerColSet,\n",
      "    rowCollapse, rowCounts, rowCummaxs, rowCummins, rowCumprods,\n",
      "    rowCumsums, rowDiffs, rowIQRDiffs, rowIQRs, rowLogSumExps,\n",
      "    rowMadDiffs, rowMads, rowMaxs, rowMeans2, rowMedians, rowMins,\n",
      "    rowOrderStats, rowProds, rowQuantiles, rowRanges, rowRanks,\n",
      "    rowSdDiffs, rowSds, rowSums2, rowTabulates, rowVarDiffs, rowVars,\n",
      "    rowWeightedMads, rowWeightedMeans, rowWeightedMedians,\n",
      "    rowWeightedSds, rowWeightedVars"
     ]
    },
    {
     "output_type": "stream",
     "name": "stderr",
     "text": [
      "Loading required package: Biobase"
     ]
    },
    {
     "output_type": "stream",
     "name": "stderr",
     "text": [
      "Welcome to Bioconductor\n",
      "\n",
      "    Vignettes contain introductory material; view with\n",
      "    'browseVignettes()'. To cite Bioconductor, see\n",
      "    'citation(\"Biobase\")', and for packages 'citation(\"pkgname\")'."
     ]
    },
    {
     "output_type": "stream",
     "name": "stderr",
     "text": [
      "\n",
      "Attaching package: 'Biobase'"
     ]
    },
    {
     "output_type": "stream",
     "name": "stderr",
     "text": [
      "The following object is masked from 'package:MatrixGenerics':\n",
      "\n",
      "    rowMedians"
     ]
    },
    {
     "output_type": "stream",
     "name": "stderr",
     "text": [
      "The following objects are masked from 'package:matrixStats':\n",
      "\n",
      "    anyMissing, rowMedians"
     ]
    },
    {
     "output_type": "stream",
     "name": "stderr",
     "text": [
      "Loading required package: Biostrings"
     ]
    },
    {
     "output_type": "stream",
     "name": "stderr",
     "text": [
      "Warning: package 'Biostrings' was built under R version 4.3.1"
     ]
    },
    {
     "output_type": "stream",
     "name": "stderr",
     "text": [
      "Loading required package: XVector"
     ]
    },
    {
     "output_type": "stream",
     "name": "stderr",
     "text": [
      "Warning: package 'XVector' was built under R version 4.3.1"
     ]
    },
    {
     "output_type": "stream",
     "name": "stderr",
     "text": [
      "\n",
      "Attaching package: 'Biostrings'"
     ]
    },
    {
     "output_type": "stream",
     "name": "stderr",
     "text": [
      "The following object is masked from 'package:base':\n",
      "\n",
      "    strsplit"
     ]
    },
    {
     "output_type": "stream",
     "name": "stderr",
     "text": [
      "Loading required package: bumphunter"
     ]
    },
    {
     "output_type": "stream",
     "name": "stderr",
     "text": [
      "Warning: package 'bumphunter' was built under R version 4.3.1"
     ]
    },
    {
     "output_type": "stream",
     "name": "stderr",
     "text": [
      "Loading required package: foreach"
     ]
    },
    {
     "output_type": "stream",
     "name": "stderr",
     "text": [
      "Loading required package: iterators"
     ]
    },
    {
     "output_type": "stream",
     "name": "stderr",
     "text": [
      "Loading required package: parallel"
     ]
    },
    {
     "output_type": "stream",
     "name": "stderr",
     "text": [
      "Loading required package: locfit"
     ]
    },
    {
     "output_type": "stream",
     "name": "stderr",
     "text": [
      "Warning: package 'locfit' was built under R version 4.3.1"
     ]
    },
    {
     "output_type": "stream",
     "name": "stderr",
     "text": [
      "locfit 1.5-9.8   2023-06-11"
     ]
    },
    {
     "output_type": "stream",
     "name": "stderr",
     "text": [
      "Setting options('download.file.method.GEOquery'='auto')"
     ]
    },
    {
     "output_type": "stream",
     "name": "stderr",
     "text": [
      "Setting options('GEOquery.inmemory.gpl'=FALSE)"
     ]
    },
    {
     "output_type": "stream",
     "name": "stderr",
     "text": [
      "Warning: package 'ggplot2' was built under R version 4.3.2"
     ]
    },
    {
     "output_type": "stream",
     "name": "stderr",
     "text": [
      "Warning: package 'purrr' was built under R version 4.3.2"
     ]
    },
    {
     "output_type": "stream",
     "name": "stderr",
     "text": [
      "Warning: package 'dplyr' was built under R version 4.3.2"
     ]
    },
    {
     "output_type": "stream",
     "name": "stderr",
     "text": [
      "Warning: package 'lubridate' was built under R version 4.3.2"
     ]
    },
    {
     "output_type": "stream",
     "name": "stderr",
     "text": [
      "── Attaching core tidyverse packages ──────────────────────── tidyverse 2.0.0 ──\n",
      "✔ dplyr     1.1.3     ✔ readr     2.1.4\n",
      "✔ forcats   1.0.0     ✔ stringr   1.5.0\n",
      "✔ ggplot2   3.4.4     ✔ tibble    3.2.1\n",
      "✔ lubridate 1.9.3     ✔ tidyr     1.3.0\n",
      "✔ purrr     1.0.2     "
     ]
    },
    {
     "output_type": "stream",
     "name": "stderr",
     "text": [
      "── Conflicts ────────────────────────────────────────── tidyverse_conflicts() ──\n",
      "✖ lubridate::%within%() masks IRanges::%within%()\n",
      "✖ purrr::accumulate()   masks foreach::accumulate()\n",
      "✖ dplyr::collapse()     masks Biostrings::collapse(), IRanges::collapse()\n",
      "✖ dplyr::combine()      masks minfi::combine(), Biobase::combine(), BiocGenerics::combine()\n",
      "✖ purrr::compact()      masks XVector::compact()\n",
      "✖ dplyr::count()        masks matrixStats::count()\n",
      "✖ dplyr::desc()         masks IRanges::desc()\n",
      "✖ tidyr::expand()       masks S4Vectors::expand()\n",
      "✖ dplyr::filter()       masks stats::filter()\n",
      "✖ dplyr::first()        masks S4Vectors::first()\n",
      "✖ dplyr::lag()          masks stats::lag()\n",
      "✖ purrr::none()         masks locfit::none()\n",
      "✖ ggplot2::Position()   masks BiocGenerics::Position(), base::Position()\n",
      "✖ purrr::reduce()       masks GenomicRanges::reduce(), IRanges::reduce()\n",
      "✖ dplyr::rename()       masks S4Vectors::rename()\n",
      "✖ lubridate::second()   masks S4Vectors::second()\n",
      "✖ lubridate::second<-() masks S4Vectors::second<-()\n",
      "✖ dplyr::slice()        masks XVector::slice(), IRanges::slice()\n",
      "✖ purrr::when()         masks foreach::when()\n",
      "ℹ Use the conflicted package (<http://conflicted.r-lib.org/>) to force all conflicts to become errors"
     ]
    },
    {
     "output_type": "stream",
     "name": "stderr",
     "text": [
      "Loading required package: GenomicFeatures"
     ]
    },
    {
     "output_type": "stream",
     "name": "stderr",
     "text": [
      "Warning: package 'GenomicFeatures' was built under R version 4.3.2"
     ]
    },
    {
     "output_type": "stream",
     "name": "stderr",
     "text": [
      "Loading required package: AnnotationDbi"
     ]
    },
    {
     "output_type": "stream",
     "name": "stderr",
     "text": [
      "Warning: package 'AnnotationDbi' was built under R version 4.3.2"
     ]
    },
    {
     "output_type": "stream",
     "name": "stderr",
     "text": [
      "\n",
      "Attaching package: 'AnnotationDbi'\n",
      "\n",
      "The following object is masked from 'package:dplyr':\n",
      "\n",
      "    select"
     ]
    },
    {
     "output_type": "stream",
     "name": "stderr",
     "text": [
      "Warning: package 'Gviz' was built under R version 4.3.2"
     ]
    },
    {
     "output_type": "stream",
     "name": "stderr",
     "text": [
      "Loading required package: grid\n",
      "\n",
      "Attaching package: 'grid'\n",
      "\n",
      "The following object is masked from 'package:Biostrings':\n",
      "\n",
      "    pattern"
     ]
    }
   ],
   "source": [
    "library(minfi)\n"
   ],
   "id": "5ad6896d-51bd-4604-9040-2c1f0bf69aef"
  },
  {
   "cell_type": "markdown",
   "metadata": {},
   "source": [
    "``` r\n",
    "# This code is not executed due to limit size (50 mb) of github\n",
    "# Please load the 450karrar_processed.rds data that is the resulto of this code\n",
    "# If you want to do this with the original data, you can find this data on: \n",
    "# https://github.com/genomicsclass/tcgaMethylationSubset\n",
    "\n",
    "targets <- read.csv(\"targets.txt\", sep = \"\\t\")\n",
    "\n",
    "targets$Basename <- paste0(getwd(),\"/notebooks/\", targets$Basename)\n",
    "\n",
    "dat <- read.metharray(targets$Basename, verbose = T)\n",
    "\n",
    "pData(dat) <- as(targets, \"DataFrame\")\n",
    "\n",
    "## preprocessing\n",
    "\n",
    "dat <- preprocessIllumina(dat)\n",
    "dat <- mapToGenome(dat)\n",
    "\n",
    "## Here we are collaping CpGs for a zxoom_out view of the methylated sites\n",
    "dat <- cpgCollapse(dat))\n",
    "```\n",
    "\n",
    "## Multi-resolution analysis"
   ],
   "id": "1b1edde0-20c9-4d8a-9ce0-4fa5a31577ed"
  },
  {
   "cell_type": "code",
   "execution_count": null,
   "metadata": {},
   "outputs": [],
   "source": [
    "dat <- readRDS(file = \"450karray_processed_multiresolution2.rds\")\n",
    "\n",
    "targets <- pData(dat$object)\n"
   ],
   "id": "cda78ca8-e600-4d71-948f-ea915d556f07"
  },
  {
   "cell_type": "code",
   "execution_count": null,
   "metadata": {},
   "outputs": [
    {
     "output_type": "display_data",
     "metadata": {},
     "data": {
      "text/html": [
       "\n",
       "</div>"
      ],
      "text/markdown": [
       "  Island Status   Freq\n",
       "  --------------- -----------\n",
       "  Island          0.1811251\n",
       "  OpenSea         0.2134595\n",
       "  Shelf           0.2705047\n",
       "  Shore           0.3349106\n"
      ]
     }
    }
   ],
   "source": [
    "\n",
    "mcols(granges(dat$object))$type |> \n",
    "    table() |> \n",
    "    prop.table() |> \n",
    "    as.data.frame() |> \n",
    "    dplyr::rename(\"Island Status\" = Var1) |> \n",
    "    gt::gt()\n"
   ],
   "id": "a1fe5a16-af66-412e-9839-273a0596155c"
  },
  {
   "cell_type": "code",
   "execution_count": null,
   "metadata": {},
   "outputs": [
    {
     "output_type": "stream",
     "name": "stderr",
     "text": [
      "[bumphunterEngine] Using a single core (backend: doSEQ, version: 1.5.2)."
     ]
    },
    {
     "output_type": "stream",
     "name": "stderr",
     "text": [
      "[bumphunterEngine] Computing coefficients."
     ]
    },
    {
     "output_type": "stream",
     "name": "stderr",
     "text": [
      "[bumphunterEngine] Smoothing coefficients."
     ]
    },
    {
     "output_type": "stream",
     "name": "stderr",
     "text": [
      "Loading required package: rngtools"
     ]
    },
    {
     "output_type": "stream",
     "name": "stderr",
     "text": [
      "[bumphunterEngine] Finding regions."
     ]
    },
    {
     "output_type": "stream",
     "name": "stderr",
     "text": [
      "[bumphunterEngine] Found 44 bumps."
     ]
    }
   ],
   "source": [
    "cancer_status <- factor(pData(dat$object)$Status,\n",
    "                        levels = c(\"normal\",\"cancer\"))\n",
    "\n",
    "X <- model.matrix(~cancer_status)\n",
    "\n",
    "res <- blockFinder(dat$object,X,cutoff = 0.05)\n"
   ],
   "id": "7f4a7300-5749-4e44-82e5-e46c5ba07097"
  },
  {
   "cell_type": "code",
   "execution_count": null,
   "metadata": {},
   "outputs": [
    {
     "output_type": "display_data",
     "metadata": {},
     "data": {
      "image/png": "[encoded data removed]"
     }
    },
    {
     "output_type": "display_data",
     "metadata": {},
     "data": {
      "image/png": "[encoded data removed]"
     }
    }
   ],
   "source": [
    "tab=makeGRangesFromDataFrame(res$table, keep.extra.columns = T)\n",
    "index= granges(dat$obj)%over% (tab[1]+10000)\n",
    "pos=start(dat$obj)[index]\n",
    "col=as.numeric(cancer_status)\n",
    "matplot(pos,getBeta(dat$obj)[index,],col=col,pch=1,cex=0.5)\n"
   ],
   "id": "43fdec32-57dd-462a-95e6-f3a07730c716"
  },
  {
   "cell_type": "markdown",
   "metadata": {},
   "source": [
    "## Plotting"
   ],
   "id": "0c3e499e-68d1-4625-9fb3-8413ca58dc69"
  },
  {
   "cell_type": "code",
   "execution_count": null,
   "metadata": {},
   "outputs": [],
   "source": [
    "genome <- \"hg19\"\n",
    "\n",
    "dmr <- res$table[2,]\n",
    "chrom <- dmr$chr\n",
    "start <- dmr$start\n",
    "end <- dmr$end\n",
    "\n",
    "minbase <- start\n",
    "maxbase <- end\n",
    "\n",
    "pal <- c(\"#E41A1C\", \"#377EB8\")\n",
    "\n",
    "iTrack <- IdeogramTrack(genome = genome, chromosome = dmr$chr, name = dmr$chr)\n",
    "gTrack <- GenomeAxisTrack(col=\"black\", cex=1, name = \"\", fontcolor=\"black\")\n",
    "\n",
    "# rTrack <- UcscTrack(genome = genome, \n",
    "#                     chromosome = chrom, \n",
    "#                     track = \"NCBI RefSeq\",\n",
    "#                     from = minbase,\n",
    "#                     to = maxbase, \n",
    "#                     trackType = \"GeneRegionTrack\",\n",
    "#                     rstarts = \"exonStarts\", \n",
    "#                     rends = \"exonEnds\", \n",
    "#                     gene = \"name\",\n",
    "#                     symbol = \"name2\", \n",
    "#                     transcript = \"name\",\n",
    "#                     strand = \"strand\",\n",
    "#                     fill = \"darkblue\",\n",
    "#                     stacking = \"squish\", \n",
    "#                     name = \"RefSeq\",\n",
    "#                     showId = TRUE, \n",
    "#                     geneSymbol = TRUE)\n",
    "\n",
    "gr <- granges(dat$object)\n",
    "\n",
    "index_1 <- which(targets$Status == \"normal\")\n",
    "index_2 <- which(targets$Status == \"cancer\")\n",
    "\n",
    "targets$Status[index_1] <- paste(targets$Status[index_1],1:17, sep = \".\")\n",
    "targets$Status[index_2] <- paste(targets$Status[index_2],1:17, sep = \".\")\n",
    "\n",
    "a <- getBeta(dat$object) |> \n",
    "    as.data.frame()\n",
    "\n",
    "names(a) <- targets$Status\n",
    "index <- order(targets$Status)\n",
    "a <- a[,index]\n",
    "\n",
    "for(i in 1:length(targets$Status)){\n",
    "    \n",
    "    n <- colnames(a)[i]\n",
    "    mcols(gr)[,n] <- a[,i]\n",
    "    \n",
    "}\n",
    "\n",
    "# gr$beta <- getBeta(dat$object)\n",
    "\n",
    "mcols(gr) <- mcols(gr)[,4:37]\n",
    "\n",
    "methTrack <- DataTrack(range = gr,\n",
    "                       genome = genome,\n",
    "                       chromosome = chrom, \n",
    "                       ylim = c(-0.05, 1.05),\n",
    "                       col = pal,\n",
    "                       type = c(\"a\"), \n",
    "                       name = \"DNA Meth.\\n(beta value)\",\n",
    "                       background.panel = \"white\", \n",
    "                       legend = TRUE, \n",
    "                       cex.title = 0.8,\n",
    "                       cex.axis = 0.8, \n",
    "                       cex.legend = 0.8)\n",
    "\n",
    "dmrTrack <- AnnotationTrack(start = start, \n",
    "                            end = end, \n",
    "                            genome = genome, \n",
    "                            name = \"DMR - Multi-resolution\",\n",
    "                            chromosom = chrom)\n",
    "\n",
    "txTr <- GeneRegionTrack(TxDb.Hsapiens.UCSC.hg19.knownGene, chromosome = chrom,name=\"Longest transcript\")\n",
    "\n",
    "tracks <- list(iTrack, gTrack, methTrack, dmrTrack, txTr)\n",
    "sizes <- c(2, 2, 5, 2, 1) # set up the relative sizes of the tracks\n"
   ],
   "id": "be22bfa6-177c-4835-8e6b-98915df23077"
  },
  {
   "cell_type": "code",
   "execution_count": null,
   "metadata": {},
   "outputs": [
    {
     "output_type": "stream",
     "name": "stdout",
     "text": [
      "png \n",
      "  2 "
     ]
    }
   ],
   "source": [
    "png(file=\"track_plot.png\", width = 1200, height = 550)\n",
    "plotTracks(tracks, \n",
    "           from = minbase, \n",
    "           to = maxbase, \n",
    "           showTitle = TRUE, \n",
    "           add53 = TRUE,\n",
    "           add35 = TRUE, \n",
    "           grid = TRUE, \n",
    "           lty.grid = 3, \n",
    "           sizes = sizes,\n",
    "           groups = rep(c(\"cancer\",\"normal\"), each=17),\n",
    "           length(tracks),\n",
    "           shape=\"arrow\",collapseTranscripts = \"longest\")\n",
    "\n",
    "dev.off()\n"
   ],
   "id": "8dddd6d3-591c-4a3b-82bf-ac9eb88f9377"
  }
 ],
 "nbformat": 4,
 "nbformat_minor": 5,
 "metadata": {}
}
